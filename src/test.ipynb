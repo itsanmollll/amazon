{
 "cells": [
  {
   "cell_type": "markdown",
   "id": "1b70b34e",
   "metadata": {},
   "source": [
    "### Basic library imports"
   ]
  },
  {
   "cell_type": "code",
   "execution_count": 1,
   "id": "719d15af",
   "metadata": {},
   "outputs": [],
   "source": [
    "import os\n",
    "import pandas as pd"
   ]
  },
  {
   "cell_type": "markdown",
   "id": "b8911e33",
   "metadata": {},
   "source": [
    "### Read Dataset"
   ]
  },
  {
   "cell_type": "code",
   "execution_count": 2,
   "id": "d3136aac",
   "metadata": {},
   "outputs": [],
   "source": [
    "DATASET_FOLDER = '../dataset/'\n",
    "train = pd.read_csv(os.path.join(DATASET_FOLDER, 'train.csv'))\n",
    "test = pd.read_csv(os.path.join(DATASET_FOLDER, 'test.csv'))\n",
    "sample_test = pd.read_csv(os.path.join(DATASET_FOLDER, 'sample_test.csv'))\n",
    "sample_test_out = pd.read_csv(os.path.join(DATASET_FOLDER, 'sample_test_out.csv'))"
   ]
  },
  {
   "cell_type": "markdown",
   "id": "60ebd689",
   "metadata": {},
   "source": [
    "### Run Sanity check using src/sanity.py"
   ]
  },
  {
   "cell_type": "code",
   "execution_count": 3,
   "id": "81bb3988",
   "metadata": {},
   "outputs": [
    {
     "name": "stdout",
     "output_type": "stream",
     "text": [
      "Parsing successfull for file: ../dataset/sample_test_out.csv\n"
     ]
    }
   ],
   "source": [
    "!python sanity.py --test_filename ../dataset/sample_test.csv --output_filename ../dataset/sample_test_out.csv"
   ]
  },
  {
   "cell_type": "code",
   "execution_count": 4,
   "id": "5aa79459",
   "metadata": {},
   "outputs": [
    {
     "name": "stdout",
     "output_type": "stream",
     "text": [
      "Error: Invalid unit [lbs] found in 6.75 lbs. Allowed units: {'metre', 'pint', 'yard', 'volt', 'millivolt', 'millilitre', 'gallon', 'foot', 'microgram', 'kilovolt', 'decilitre', 'kilogram', 'pound', 'litre', 'inch', 'fluid ounce', 'gram', 'cubic inch', 'microlitre', 'millimetre', 'kilowatt', 'milligram', 'centimetre', 'imperial gallon', 'watt', 'cubic foot', 'cup', 'quart', 'ton', 'ounce', 'centilitre'}\n"
     ]
    }
   ],
   "source": [
    "!python sanity.py --test_filename ../dataset/sample_test.csv --output_filename ../dataset/sample_test_out_fail.csv"
   ]
  },
  {
   "cell_type": "code",
   "execution_count": 5,
   "id": "c93aded9-2adf-4193-961f-3aee4ce4fd4f",
   "metadata": {},
   "outputs": [],
   "source": [
    "batch_size = 5000\n",
    "batch = train.head(batch_size)"
   ]
  },
  {
   "cell_type": "markdown",
   "id": "dbe930a8",
   "metadata": {},
   "source": [
    "### Download images"
   ]
  },
  {
   "cell_type": "code",
   "execution_count": 6,
   "id": "a3d1aad8",
   "metadata": {},
   "outputs": [
    {
     "name": "stderr",
     "output_type": "stream",
     "text": [
      "100%|███████████████████████████████████████████████████████████████████████████████████████████████████████████████████████████████████████████████████████████████████| 5000/5000 [01:45<00:00, 47.25it/s]\n"
     ]
    }
   ],
   "source": [
    "from utils import download_images\n",
    "download_images(batch['image_link'], '../images')"
   ]
  },
  {
   "cell_type": "code",
   "execution_count": 34,
   "id": "89aaba53",
   "metadata": {},
   "outputs": [],
   "source": [
    "assert len(os.listdir('../images')) > 0"
   ]
  },
  {
   "cell_type": "code",
   "execution_count": 4,
   "id": "1ba3d802",
   "metadata": {},
   "outputs": [],
   "source": [
    "rm -rf ../images"
   ]
  },
  {
   "cell_type": "markdown",
   "id": "9083118a-65a3-4de2-a214-0a54c6c6d90b",
   "metadata": {},
   "source": [
    "## Let's understand dataset first"
   ]
  },
  {
   "cell_type": "code",
   "execution_count": 8,
   "id": "30776cf3-e7d1-480b-b882-054494b9aad4",
   "metadata": {},
   "outputs": [
    {
     "data": {
      "text/html": [
       "<div>\n",
       "<style scoped>\n",
       "    .dataframe tbody tr th:only-of-type {\n",
       "        vertical-align: middle;\n",
       "    }\n",
       "\n",
       "    .dataframe tbody tr th {\n",
       "        vertical-align: top;\n",
       "    }\n",
       "\n",
       "    .dataframe thead th {\n",
       "        text-align: right;\n",
       "    }\n",
       "</style>\n",
       "<table border=\"1\" class=\"dataframe\">\n",
       "  <thead>\n",
       "    <tr style=\"text-align: right;\">\n",
       "      <th></th>\n",
       "      <th>image_link</th>\n",
       "      <th>group_id</th>\n",
       "      <th>entity_name</th>\n",
       "      <th>entity_value</th>\n",
       "    </tr>\n",
       "  </thead>\n",
       "  <tbody>\n",
       "    <tr>\n",
       "      <th>0</th>\n",
       "      <td>https://m.media-amazon.com/images/I/61I9XdN6OF...</td>\n",
       "      <td>748919</td>\n",
       "      <td>item_weight</td>\n",
       "      <td>500.0 gram</td>\n",
       "    </tr>\n",
       "    <tr>\n",
       "      <th>1</th>\n",
       "      <td>https://m.media-amazon.com/images/I/71gSRbyXmo...</td>\n",
       "      <td>916768</td>\n",
       "      <td>item_volume</td>\n",
       "      <td>1.0 cup</td>\n",
       "    </tr>\n",
       "    <tr>\n",
       "      <th>2</th>\n",
       "      <td>https://m.media-amazon.com/images/I/61BZ4zrjZX...</td>\n",
       "      <td>459516</td>\n",
       "      <td>item_weight</td>\n",
       "      <td>0.709 gram</td>\n",
       "    </tr>\n",
       "    <tr>\n",
       "      <th>3</th>\n",
       "      <td>https://m.media-amazon.com/images/I/612mrlqiI4...</td>\n",
       "      <td>459516</td>\n",
       "      <td>item_weight</td>\n",
       "      <td>0.709 gram</td>\n",
       "    </tr>\n",
       "    <tr>\n",
       "      <th>4</th>\n",
       "      <td>https://m.media-amazon.com/images/I/617Tl40LOX...</td>\n",
       "      <td>731432</td>\n",
       "      <td>item_weight</td>\n",
       "      <td>1400 milligram</td>\n",
       "    </tr>\n",
       "    <tr>\n",
       "      <th>...</th>\n",
       "      <td>...</td>\n",
       "      <td>...</td>\n",
       "      <td>...</td>\n",
       "      <td>...</td>\n",
       "    </tr>\n",
       "    <tr>\n",
       "      <th>263854</th>\n",
       "      <td>https://m.media-amazon.com/images/I/612J1R1xHl...</td>\n",
       "      <td>558806</td>\n",
       "      <td>height</td>\n",
       "      <td>5.0 centimetre</td>\n",
       "    </tr>\n",
       "    <tr>\n",
       "      <th>263855</th>\n",
       "      <td>https://m.media-amazon.com/images/I/61Blzh2+28...</td>\n",
       "      <td>470067</td>\n",
       "      <td>height</td>\n",
       "      <td>8.5 inch</td>\n",
       "    </tr>\n",
       "    <tr>\n",
       "      <th>263856</th>\n",
       "      <td>https://m.media-amazon.com/images/I/51MsegDL9V...</td>\n",
       "      <td>204245</td>\n",
       "      <td>height</td>\n",
       "      <td>43.2 centimetre</td>\n",
       "    </tr>\n",
       "    <tr>\n",
       "      <th>263857</th>\n",
       "      <td>https://m.media-amazon.com/images/I/510KhVw4VS...</td>\n",
       "      <td>752266</td>\n",
       "      <td>height</td>\n",
       "      <td>9.1 centimetre</td>\n",
       "    </tr>\n",
       "    <tr>\n",
       "      <th>263858</th>\n",
       "      <td>https://m.media-amazon.com/images/I/51lzTNLQ-6...</td>\n",
       "      <td>416664</td>\n",
       "      <td>height</td>\n",
       "      <td>27.5 centimetre</td>\n",
       "    </tr>\n",
       "  </tbody>\n",
       "</table>\n",
       "<p>263859 rows × 4 columns</p>\n",
       "</div>"
      ],
      "text/plain": [
       "                                               image_link  group_id  \\\n",
       "0       https://m.media-amazon.com/images/I/61I9XdN6OF...    748919   \n",
       "1       https://m.media-amazon.com/images/I/71gSRbyXmo...    916768   \n",
       "2       https://m.media-amazon.com/images/I/61BZ4zrjZX...    459516   \n",
       "3       https://m.media-amazon.com/images/I/612mrlqiI4...    459516   \n",
       "4       https://m.media-amazon.com/images/I/617Tl40LOX...    731432   \n",
       "...                                                   ...       ...   \n",
       "263854  https://m.media-amazon.com/images/I/612J1R1xHl...    558806   \n",
       "263855  https://m.media-amazon.com/images/I/61Blzh2+28...    470067   \n",
       "263856  https://m.media-amazon.com/images/I/51MsegDL9V...    204245   \n",
       "263857  https://m.media-amazon.com/images/I/510KhVw4VS...    752266   \n",
       "263858  https://m.media-amazon.com/images/I/51lzTNLQ-6...    416664   \n",
       "\n",
       "        entity_name     entity_value  \n",
       "0       item_weight       500.0 gram  \n",
       "1       item_volume          1.0 cup  \n",
       "2       item_weight       0.709 gram  \n",
       "3       item_weight       0.709 gram  \n",
       "4       item_weight   1400 milligram  \n",
       "...             ...              ...  \n",
       "263854       height   5.0 centimetre  \n",
       "263855       height         8.5 inch  \n",
       "263856       height  43.2 centimetre  \n",
       "263857       height   9.1 centimetre  \n",
       "263858       height  27.5 centimetre  \n",
       "\n",
       "[263859 rows x 4 columns]"
      ]
     },
     "execution_count": 8,
     "metadata": {},
     "output_type": "execute_result"
    }
   ],
   "source": [
    "train"
   ]
  },
  {
   "cell_type": "code",
   "execution_count": 9,
   "id": "9a15b561-9a7c-4976-ab91-d5645508618a",
   "metadata": {},
   "outputs": [
    {
     "name": "stdout",
     "output_type": "stream",
     "text": [
      "<class 'pandas.core.frame.DataFrame'>\n",
      "RangeIndex: 263859 entries, 0 to 263858\n",
      "Data columns (total 4 columns):\n",
      " #   Column        Non-Null Count   Dtype \n",
      "---  ------        --------------   ----- \n",
      " 0   image_link    263859 non-null  object\n",
      " 1   group_id      263859 non-null  int64 \n",
      " 2   entity_name   263859 non-null  object\n",
      " 3   entity_value  263859 non-null  object\n",
      "dtypes: int64(1), object(3)\n",
      "memory usage: 8.1+ MB\n"
     ]
    }
   ],
   "source": [
    "train.info()"
   ]
  },
  {
   "cell_type": "code",
   "execution_count": 10,
   "id": "a0b54cd8-675f-4910-b4ec-7ad081d753e7",
   "metadata": {},
   "outputs": [
    {
     "data": {
      "text/plain": [
       "image_link      255906\n",
       "group_id           750\n",
       "entity_name          8\n",
       "entity_value     16405\n",
       "dtype: int64"
      ]
     },
     "execution_count": 10,
     "metadata": {},
     "output_type": "execute_result"
    }
   ],
   "source": [
    "train.nunique()"
   ]
  },
  {
   "cell_type": "code",
   "execution_count": 11,
   "id": "73d24305-f53a-4fb8-85b7-41dcd2a628c5",
   "metadata": {},
   "outputs": [
    {
     "data": {
      "text/html": [
       "<div>\n",
       "<style scoped>\n",
       "    .dataframe tbody tr th:only-of-type {\n",
       "        vertical-align: middle;\n",
       "    }\n",
       "\n",
       "    .dataframe tbody tr th {\n",
       "        vertical-align: top;\n",
       "    }\n",
       "\n",
       "    .dataframe thead th {\n",
       "        text-align: right;\n",
       "    }\n",
       "</style>\n",
       "<table border=\"1\" class=\"dataframe\">\n",
       "  <thead>\n",
       "    <tr style=\"text-align: right;\">\n",
       "      <th></th>\n",
       "      <th>group_id</th>\n",
       "    </tr>\n",
       "  </thead>\n",
       "  <tbody>\n",
       "    <tr>\n",
       "      <th>count</th>\n",
       "      <td>263859.000000</td>\n",
       "    </tr>\n",
       "    <tr>\n",
       "      <th>mean</th>\n",
       "      <td>545809.847525</td>\n",
       "    </tr>\n",
       "    <tr>\n",
       "      <th>std</th>\n",
       "      <td>249488.149296</td>\n",
       "    </tr>\n",
       "    <tr>\n",
       "      <th>min</th>\n",
       "      <td>101697.000000</td>\n",
       "    </tr>\n",
       "    <tr>\n",
       "      <th>25%</th>\n",
       "      <td>311997.000000</td>\n",
       "    </tr>\n",
       "    <tr>\n",
       "      <th>50%</th>\n",
       "      <td>524635.000000</td>\n",
       "    </tr>\n",
       "    <tr>\n",
       "      <th>75%</th>\n",
       "      <td>752266.000000</td>\n",
       "    </tr>\n",
       "    <tr>\n",
       "      <th>max</th>\n",
       "      <td>998545.000000</td>\n",
       "    </tr>\n",
       "  </tbody>\n",
       "</table>\n",
       "</div>"
      ],
      "text/plain": [
       "            group_id\n",
       "count  263859.000000\n",
       "mean   545809.847525\n",
       "std    249488.149296\n",
       "min    101697.000000\n",
       "25%    311997.000000\n",
       "50%    524635.000000\n",
       "75%    752266.000000\n",
       "max    998545.000000"
      ]
     },
     "execution_count": 11,
     "metadata": {},
     "output_type": "execute_result"
    }
   ],
   "source": [
    "train.describe()"
   ]
  },
  {
   "cell_type": "code",
   "execution_count": 12,
   "id": "fb26e5cd-ae8a-4217-a04d-96d85005589c",
   "metadata": {},
   "outputs": [
    {
     "data": {
      "text/plain": [
       "image_link      0\n",
       "group_id        0\n",
       "entity_name     0\n",
       "entity_value    0\n",
       "dtype: int64"
      ]
     },
     "execution_count": 12,
     "metadata": {},
     "output_type": "execute_result"
    }
   ],
   "source": [
    "train.isna().sum()"
   ]
  },
  {
   "cell_type": "markdown",
   "id": "1935c1f9-8b5c-4e0d-9972-4210b9d80502",
   "metadata": {},
   "source": [
    "## No Null Values"
   ]
  },
  {
   "cell_type": "code",
   "execution_count": 13,
   "id": "e4aa5e2f-9a51-4f47-97ed-ac335b46885e",
   "metadata": {},
   "outputs": [
    {
     "name": "stdout",
     "output_type": "stream",
     "text": [
      "Duplicate Rows :  0\n"
     ]
    }
   ],
   "source": [
    "print(\"Duplicate Rows : \", train.duplicated().sum())"
   ]
  },
  {
   "cell_type": "code",
   "execution_count": 14,
   "id": "93ec58aa-fac0-48b6-bb31-e73250a360fc",
   "metadata": {},
   "outputs": [
    {
     "data": {
      "text/html": [
       "<div>\n",
       "<style scoped>\n",
       "    .dataframe tbody tr th:only-of-type {\n",
       "        vertical-align: middle;\n",
       "    }\n",
       "\n",
       "    .dataframe tbody tr th {\n",
       "        vertical-align: top;\n",
       "    }\n",
       "\n",
       "    .dataframe thead th {\n",
       "        text-align: right;\n",
       "    }\n",
       "</style>\n",
       "<table border=\"1\" class=\"dataframe\">\n",
       "  <thead>\n",
       "    <tr style=\"text-align: right;\">\n",
       "      <th></th>\n",
       "      <th>image_link</th>\n",
       "      <th>group_id</th>\n",
       "      <th>entity_name</th>\n",
       "      <th>entity_value</th>\n",
       "    </tr>\n",
       "  </thead>\n",
       "  <tbody>\n",
       "    <tr>\n",
       "      <th>2</th>\n",
       "      <td>https://m.media-amazon.com/images/I/61BZ4zrjZX...</td>\n",
       "      <td>459516</td>\n",
       "      <td>item_weight</td>\n",
       "      <td>0.709 gram</td>\n",
       "    </tr>\n",
       "    <tr>\n",
       "      <th>3</th>\n",
       "      <td>https://m.media-amazon.com/images/I/612mrlqiI4...</td>\n",
       "      <td>459516</td>\n",
       "      <td>item_weight</td>\n",
       "      <td>0.709 gram</td>\n",
       "    </tr>\n",
       "    <tr>\n",
       "      <th>4</th>\n",
       "      <td>https://m.media-amazon.com/images/I/617Tl40LOX...</td>\n",
       "      <td>731432</td>\n",
       "      <td>item_weight</td>\n",
       "      <td>1400 milligram</td>\n",
       "    </tr>\n",
       "    <tr>\n",
       "      <th>5</th>\n",
       "      <td>https://m.media-amazon.com/images/I/61QsBSE7jg...</td>\n",
       "      <td>731432</td>\n",
       "      <td>item_weight</td>\n",
       "      <td>1400 milligram</td>\n",
       "    </tr>\n",
       "    <tr>\n",
       "      <th>6</th>\n",
       "      <td>https://m.media-amazon.com/images/I/81xsq6vf2q...</td>\n",
       "      <td>731432</td>\n",
       "      <td>item_weight</td>\n",
       "      <td>1400 milligram</td>\n",
       "    </tr>\n",
       "    <tr>\n",
       "      <th>...</th>\n",
       "      <td>...</td>\n",
       "      <td>...</td>\n",
       "      <td>...</td>\n",
       "      <td>...</td>\n",
       "    </tr>\n",
       "    <tr>\n",
       "      <th>263854</th>\n",
       "      <td>https://m.media-amazon.com/images/I/612J1R1xHl...</td>\n",
       "      <td>558806</td>\n",
       "      <td>height</td>\n",
       "      <td>5.0 centimetre</td>\n",
       "    </tr>\n",
       "    <tr>\n",
       "      <th>263855</th>\n",
       "      <td>https://m.media-amazon.com/images/I/61Blzh2+28...</td>\n",
       "      <td>470067</td>\n",
       "      <td>height</td>\n",
       "      <td>8.5 inch</td>\n",
       "    </tr>\n",
       "    <tr>\n",
       "      <th>263856</th>\n",
       "      <td>https://m.media-amazon.com/images/I/51MsegDL9V...</td>\n",
       "      <td>204245</td>\n",
       "      <td>height</td>\n",
       "      <td>43.2 centimetre</td>\n",
       "    </tr>\n",
       "    <tr>\n",
       "      <th>263857</th>\n",
       "      <td>https://m.media-amazon.com/images/I/510KhVw4VS...</td>\n",
       "      <td>752266</td>\n",
       "      <td>height</td>\n",
       "      <td>9.1 centimetre</td>\n",
       "    </tr>\n",
       "    <tr>\n",
       "      <th>263858</th>\n",
       "      <td>https://m.media-amazon.com/images/I/51lzTNLQ-6...</td>\n",
       "      <td>416664</td>\n",
       "      <td>height</td>\n",
       "      <td>27.5 centimetre</td>\n",
       "    </tr>\n",
       "  </tbody>\n",
       "</table>\n",
       "<p>263851 rows × 4 columns</p>\n",
       "</div>"
      ],
      "text/plain": [
       "                                               image_link  group_id  \\\n",
       "2       https://m.media-amazon.com/images/I/61BZ4zrjZX...    459516   \n",
       "3       https://m.media-amazon.com/images/I/612mrlqiI4...    459516   \n",
       "4       https://m.media-amazon.com/images/I/617Tl40LOX...    731432   \n",
       "5       https://m.media-amazon.com/images/I/61QsBSE7jg...    731432   \n",
       "6       https://m.media-amazon.com/images/I/81xsq6vf2q...    731432   \n",
       "...                                                   ...       ...   \n",
       "263854  https://m.media-amazon.com/images/I/612J1R1xHl...    558806   \n",
       "263855  https://m.media-amazon.com/images/I/61Blzh2+28...    470067   \n",
       "263856  https://m.media-amazon.com/images/I/51MsegDL9V...    204245   \n",
       "263857  https://m.media-amazon.com/images/I/510KhVw4VS...    752266   \n",
       "263858  https://m.media-amazon.com/images/I/51lzTNLQ-6...    416664   \n",
       "\n",
       "        entity_name     entity_value  \n",
       "2       item_weight       0.709 gram  \n",
       "3       item_weight       0.709 gram  \n",
       "4       item_weight   1400 milligram  \n",
       "5       item_weight   1400 milligram  \n",
       "6       item_weight   1400 milligram  \n",
       "...             ...              ...  \n",
       "263854       height   5.0 centimetre  \n",
       "263855       height         8.5 inch  \n",
       "263856       height  43.2 centimetre  \n",
       "263857       height   9.1 centimetre  \n",
       "263858       height  27.5 centimetre  \n",
       "\n",
       "[263851 rows x 4 columns]"
      ]
     },
     "execution_count": 14,
     "metadata": {},
     "output_type": "execute_result"
    }
   ],
   "source": [
    "duplicates = train[train.duplicated(subset=['entity_name'])]\n",
    "duplicates"
   ]
  },
  {
   "cell_type": "code",
   "execution_count": 15,
   "id": "163c534f-33bb-4363-8dae-17bb57f5647e",
   "metadata": {},
   "outputs": [
    {
     "name": "stdout",
     "output_type": "stream",
     "text": [
      "Collecting pytesseract\n",
      "  Using cached pytesseract-0.3.13-py3-none-any.whl.metadata (11 kB)\n",
      "Collecting easyocr\n",
      "  Downloading easyocr-1.7.1-py3-none-any.whl.metadata (11 kB)\n",
      "Collecting paddleocr\n",
      "  Downloading paddleocr-2.8.1-py3-none-any.whl.metadata (19 kB)\n",
      "Collecting google-cloud-vision\n",
      "  Downloading google_cloud_vision-3.7.4-py2.py3-none-any.whl.metadata (5.2 kB)\n",
      "Requirement already satisfied: packaging>=21.3 in /Users/anmol/miniconda3/lib/python3.12/site-packages (from pytesseract) (24.1)\n",
      "Requirement already satisfied: Pillow>=8.0.0 in /Users/anmol/miniconda3/lib/python3.12/site-packages (from pytesseract) (10.4.0)\n",
      "Requirement already satisfied: torch in /Users/anmol/miniconda3/lib/python3.12/site-packages (from easyocr) (2.4.0)\n",
      "Collecting torchvision>=0.5 (from easyocr)\n",
      "  Using cached torchvision-0.19.1-cp312-cp312-macosx_11_0_arm64.whl.metadata (6.0 kB)\n",
      "Collecting opencv-python-headless (from easyocr)\n",
      "  Downloading opencv_python_headless-4.10.0.84-cp37-abi3-macosx_11_0_arm64.whl.metadata (20 kB)\n",
      "Requirement already satisfied: scipy in /Users/anmol/miniconda3/lib/python3.12/site-packages (from easyocr) (1.14.1)\n",
      "Requirement already satisfied: numpy in /Users/anmol/miniconda3/lib/python3.12/site-packages (from easyocr) (1.26.4)\n",
      "Collecting scikit-image (from easyocr)\n",
      "  Downloading scikit_image-0.24.0-cp312-cp312-macosx_12_0_arm64.whl.metadata (14 kB)\n",
      "Collecting python-bidi (from easyocr)\n",
      "  Downloading python_bidi-0.6.0-cp312-cp312-macosx_11_0_arm64.whl.metadata (4.6 kB)\n",
      "Requirement already satisfied: PyYAML in /Users/anmol/miniconda3/lib/python3.12/site-packages (from easyocr) (6.0.2)\n",
      "Collecting Shapely (from easyocr)\n",
      "  Downloading shapely-2.0.6-cp312-cp312-macosx_11_0_arm64.whl.metadata (7.0 kB)\n",
      "Collecting pyclipper (from easyocr)\n",
      "  Downloading pyclipper-1.3.0.post5-cp312-cp312-macosx_10_9_universal2.whl.metadata (9.0 kB)\n",
      "Collecting ninja (from easyocr)\n",
      "  Downloading ninja-1.11.1.1-py2.py3-none-macosx_10_9_universal2.macosx_10_9_x86_64.macosx_11_0_arm64.macosx_11_0_universal2.whl.metadata (5.3 kB)\n",
      "Collecting imgaug (from paddleocr)\n",
      "  Downloading imgaug-0.4.0-py2.py3-none-any.whl.metadata (1.8 kB)\n",
      "Collecting lmdb (from paddleocr)\n",
      "  Downloading lmdb-1.5.1-cp312-cp312-macosx_10_9_universal2.whl.metadata (1.1 kB)\n",
      "Requirement already satisfied: tqdm in /Users/anmol/miniconda3/lib/python3.12/site-packages (from paddleocr) (4.66.4)\n",
      "Requirement already satisfied: rapidfuzz in /Users/anmol/miniconda3/lib/python3.12/site-packages (from paddleocr) (3.9.6)\n",
      "Collecting opencv-python (from paddleocr)\n",
      "  Using cached opencv_python-4.10.0.84-cp37-abi3-macosx_11_0_arm64.whl.metadata (20 kB)\n",
      "Collecting opencv-contrib-python (from paddleocr)\n",
      "  Downloading opencv_contrib_python-4.10.0.84-cp37-abi3-macosx_11_0_arm64.whl.metadata (20 kB)\n",
      "Collecting cython (from paddleocr)\n",
      "  Downloading Cython-3.0.11-py2.py3-none-any.whl.metadata (3.2 kB)\n",
      "Collecting python-docx (from paddleocr)\n",
      "  Downloading python_docx-1.1.2-py3-none-any.whl.metadata (2.0 kB)\n",
      "Collecting beautifulsoup4 (from paddleocr)\n",
      "  Downloading beautifulsoup4-4.12.3-py3-none-any.whl.metadata (3.8 kB)\n",
      "Requirement already satisfied: fonttools>=4.24.0 in /Users/anmol/miniconda3/lib/python3.12/site-packages (from paddleocr) (4.53.1)\n",
      "Collecting fire>=0.3.0 (from paddleocr)\n",
      "  Downloading fire-0.6.0.tar.gz (88 kB)\n",
      "  Preparing metadata (setup.py) ... \u001b[?25ldone\n",
      "\u001b[?25hRequirement already satisfied: requests in /Users/anmol/miniconda3/lib/python3.12/site-packages (from paddleocr) (2.32.3)\n",
      "Collecting google-api-core!=2.0.*,!=2.1.*,!=2.10.*,!=2.2.*,!=2.3.*,!=2.4.*,!=2.5.*,!=2.6.*,!=2.7.*,!=2.8.*,!=2.9.*,<3.0.0dev,>=1.34.1 (from google-api-core[grpc]!=2.0.*,!=2.1.*,!=2.10.*,!=2.2.*,!=2.3.*,!=2.4.*,!=2.5.*,!=2.6.*,!=2.7.*,!=2.8.*,!=2.9.*,<3.0.0dev,>=1.34.1->google-cloud-vision)\n",
      "  Using cached google_api_core-2.19.2-py3-none-any.whl.metadata (2.7 kB)\n",
      "Collecting google-auth!=2.24.0,!=2.25.0,<3.0.0dev,>=2.14.1 (from google-cloud-vision)\n",
      "  Using cached google_auth-2.34.0-py2.py3-none-any.whl.metadata (4.7 kB)\n",
      "Collecting proto-plus<2.0.0dev,>=1.22.3 (from google-cloud-vision)\n",
      "  Using cached proto_plus-1.24.0-py3-none-any.whl.metadata (2.2 kB)\n",
      "Requirement already satisfied: protobuf!=4.21.0,!=4.21.1,!=4.21.2,!=4.21.3,!=4.21.4,!=4.21.5,<6.0.0dev,>=3.20.2 in /Users/anmol/miniconda3/lib/python3.12/site-packages (from google-cloud-vision) (4.25.4)\n",
      "Requirement already satisfied: six in /Users/anmol/miniconda3/lib/python3.12/site-packages (from fire>=0.3.0->paddleocr) (1.16.0)\n",
      "Collecting termcolor (from fire>=0.3.0->paddleocr)\n",
      "  Downloading termcolor-2.4.0-py3-none-any.whl.metadata (6.1 kB)\n",
      "Requirement already satisfied: googleapis-common-protos<2.0.dev0,>=1.56.2 in /Users/anmol/miniconda3/lib/python3.12/site-packages (from google-api-core!=2.0.*,!=2.1.*,!=2.10.*,!=2.2.*,!=2.3.*,!=2.4.*,!=2.5.*,!=2.6.*,!=2.7.*,!=2.8.*,!=2.9.*,<3.0.0dev,>=1.34.1->google-api-core[grpc]!=2.0.*,!=2.1.*,!=2.10.*,!=2.2.*,!=2.3.*,!=2.4.*,!=2.5.*,!=2.6.*,!=2.7.*,!=2.8.*,!=2.9.*,<3.0.0dev,>=1.34.1->google-cloud-vision) (1.63.2)\n",
      "Requirement already satisfied: grpcio<2.0dev,>=1.33.2 in /Users/anmol/miniconda3/lib/python3.12/site-packages (from google-api-core[grpc]!=2.0.*,!=2.1.*,!=2.10.*,!=2.2.*,!=2.3.*,!=2.4.*,!=2.5.*,!=2.6.*,!=2.7.*,!=2.8.*,!=2.9.*,<3.0.0dev,>=1.34.1->google-cloud-vision) (1.66.0)\n",
      "Collecting grpcio-status<2.0.dev0,>=1.33.2 (from google-api-core[grpc]!=2.0.*,!=2.1.*,!=2.10.*,!=2.2.*,!=2.3.*,!=2.4.*,!=2.5.*,!=2.6.*,!=2.7.*,!=2.8.*,!=2.9.*,<3.0.0dev,>=1.34.1->google-cloud-vision)\n",
      "  Using cached grpcio_status-1.66.1-py3-none-any.whl.metadata (1.1 kB)\n",
      "Collecting cachetools<6.0,>=2.0.0 (from google-auth!=2.24.0,!=2.25.0,<3.0.0dev,>=2.14.1->google-cloud-vision)\n",
      "  Using cached cachetools-5.5.0-py3-none-any.whl.metadata (5.3 kB)\n",
      "Collecting pyasn1-modules>=0.2.1 (from google-auth!=2.24.0,!=2.25.0,<3.0.0dev,>=2.14.1->google-cloud-vision)\n",
      "  Downloading pyasn1_modules-0.4.1-py3-none-any.whl.metadata (3.5 kB)\n",
      "Collecting rsa<5,>=3.1.4 (from google-auth!=2.24.0,!=2.25.0,<3.0.0dev,>=2.14.1->google-cloud-vision)\n",
      "  Using cached rsa-4.9-py3-none-any.whl.metadata (4.2 kB)\n",
      "Requirement already satisfied: charset-normalizer<4,>=2 in /Users/anmol/miniconda3/lib/python3.12/site-packages (from requests->paddleocr) (3.3.2)\n",
      "Requirement already satisfied: idna<4,>=2.5 in /Users/anmol/miniconda3/lib/python3.12/site-packages (from requests->paddleocr) (3.7)\n",
      "Requirement already satisfied: urllib3<3,>=1.21.1 in /Users/anmol/miniconda3/lib/python3.12/site-packages (from requests->paddleocr) (2.2.2)\n",
      "Requirement already satisfied: certifi>=2017.4.17 in /Users/anmol/miniconda3/lib/python3.12/site-packages (from requests->paddleocr) (2024.7.4)\n",
      "Collecting torch (from easyocr)\n",
      "  Using cached torch-2.4.1-cp312-none-macosx_11_0_arm64.whl.metadata (26 kB)\n",
      "Requirement already satisfied: filelock in /Users/anmol/miniconda3/lib/python3.12/site-packages (from torch->easyocr) (3.15.4)\n",
      "Requirement already satisfied: typing-extensions>=4.8.0 in /Users/anmol/miniconda3/lib/python3.12/site-packages (from torch->easyocr) (4.12.2)\n",
      "Requirement already satisfied: sympy in /Users/anmol/miniconda3/lib/python3.12/site-packages (from torch->easyocr) (1.13.2)\n",
      "Requirement already satisfied: networkx in /Users/anmol/miniconda3/lib/python3.12/site-packages (from torch->easyocr) (3.3)\n",
      "Requirement already satisfied: jinja2 in /Users/anmol/miniconda3/lib/python3.12/site-packages (from torch->easyocr) (3.1.4)\n",
      "Requirement already satisfied: fsspec in /Users/anmol/miniconda3/lib/python3.12/site-packages (from torch->easyocr) (2024.6.1)\n",
      "Requirement already satisfied: setuptools in /Users/anmol/miniconda3/lib/python3.12/site-packages (from torch->easyocr) (72.1.0)\n",
      "Collecting soupsieve>1.2 (from beautifulsoup4->paddleocr)\n",
      "  Downloading soupsieve-2.6-py3-none-any.whl.metadata (4.6 kB)\n",
      "Requirement already satisfied: matplotlib in /Users/anmol/miniconda3/lib/python3.12/site-packages (from imgaug->paddleocr) (3.9.2)\n",
      "Collecting imageio (from imgaug->paddleocr)\n",
      "  Using cached imageio-2.35.1-py3-none-any.whl.metadata (4.9 kB)\n",
      "Collecting tifffile>=2022.8.12 (from scikit-image->easyocr)\n",
      "  Downloading tifffile-2024.8.30-py3-none-any.whl.metadata (31 kB)\n",
      "Collecting lazy-loader>=0.4 (from scikit-image->easyocr)\n",
      "  Downloading lazy_loader-0.4-py3-none-any.whl.metadata (7.6 kB)\n",
      "Requirement already satisfied: lxml>=3.1.0 in /Users/anmol/miniconda3/lib/python3.12/site-packages (from python-docx->paddleocr) (4.9.4)\n",
      "Collecting protobuf!=4.21.0,!=4.21.1,!=4.21.2,!=4.21.3,!=4.21.4,!=4.21.5,<6.0.0dev,>=3.20.2 (from google-cloud-vision)\n",
      "  Downloading protobuf-5.28.1-cp38-abi3-macosx_10_9_universal2.whl.metadata (592 bytes)\n",
      "Collecting grpcio<2.0dev,>=1.33.2 (from google-api-core[grpc]!=2.0.*,!=2.1.*,!=2.10.*,!=2.2.*,!=2.3.*,!=2.4.*,!=2.5.*,!=2.6.*,!=2.7.*,!=2.8.*,!=2.9.*,<3.0.0dev,>=1.34.1->google-cloud-vision)\n",
      "  Using cached grpcio-1.66.1-cp312-cp312-macosx_10_9_universal2.whl.metadata (3.9 kB)\n",
      "Collecting pyasn1<0.7.0,>=0.4.6 (from pyasn1-modules>=0.2.1->google-auth!=2.24.0,!=2.25.0,<3.0.0dev,>=2.14.1->google-cloud-vision)\n",
      "  Downloading pyasn1-0.6.1-py3-none-any.whl.metadata (8.4 kB)\n",
      "Requirement already satisfied: MarkupSafe>=2.0 in /Users/anmol/miniconda3/lib/python3.12/site-packages (from jinja2->torch->easyocr) (2.1.5)\n",
      "Requirement already satisfied: contourpy>=1.0.1 in /Users/anmol/miniconda3/lib/python3.12/site-packages (from matplotlib->imgaug->paddleocr) (1.2.1)\n",
      "Requirement already satisfied: cycler>=0.10 in /Users/anmol/miniconda3/lib/python3.12/site-packages (from matplotlib->imgaug->paddleocr) (0.12.1)\n",
      "Requirement already satisfied: kiwisolver>=1.3.1 in /Users/anmol/miniconda3/lib/python3.12/site-packages (from matplotlib->imgaug->paddleocr) (1.4.5)\n",
      "Requirement already satisfied: pyparsing>=2.3.1 in /Users/anmol/miniconda3/lib/python3.12/site-packages (from matplotlib->imgaug->paddleocr) (3.1.4)\n",
      "Requirement already satisfied: python-dateutil>=2.7 in /Users/anmol/miniconda3/lib/python3.12/site-packages (from matplotlib->imgaug->paddleocr) (2.9.0.post0)\n",
      "Requirement already satisfied: mpmath<1.4,>=1.1.0 in /Users/anmol/miniconda3/lib/python3.12/site-packages (from sympy->torch->easyocr) (1.3.0)\n",
      "Using cached pytesseract-0.3.13-py3-none-any.whl (14 kB)\n",
      "Downloading easyocr-1.7.1-py3-none-any.whl (2.9 MB)\n",
      "\u001b[2K   \u001b[90m━━━━━━━━━━━━━━━━━━━━━━━━━━━━━━━━━━━━━━━━\u001b[0m \u001b[32m2.9/2.9 MB\u001b[0m \u001b[31m9.9 MB/s\u001b[0m eta \u001b[36m0:00:00\u001b[0mta \u001b[36m0:00:01\u001b[0m\n",
      "\u001b[?25hDownloading paddleocr-2.8.1-py3-none-any.whl (407 kB)\n",
      "Downloading google_cloud_vision-3.7.4-py2.py3-none-any.whl (467 kB)\n",
      "Using cached google_api_core-2.19.2-py3-none-any.whl (139 kB)\n",
      "Using cached google_auth-2.34.0-py2.py3-none-any.whl (200 kB)\n",
      "Using cached proto_plus-1.24.0-py3-none-any.whl (50 kB)\n",
      "Using cached torchvision-0.19.1-cp312-cp312-macosx_11_0_arm64.whl (1.7 MB)\n",
      "Using cached torch-2.4.1-cp312-none-macosx_11_0_arm64.whl (62.1 MB)\n",
      "Downloading beautifulsoup4-4.12.3-py3-none-any.whl (147 kB)\n",
      "Downloading Cython-3.0.11-py2.py3-none-any.whl (1.2 MB)\n",
      "\u001b[2K   \u001b[90m━━━━━━━━━━━━━━━━━━━━━━━━━━━━━━━━━━━━━━━━\u001b[0m \u001b[32m1.2/1.2 MB\u001b[0m \u001b[31m44.5 MB/s\u001b[0m eta \u001b[36m0:00:00\u001b[0m\n",
      "\u001b[?25hDownloading imgaug-0.4.0-py2.py3-none-any.whl (948 kB)\n",
      "\u001b[2K   \u001b[90m━━━━━━━━━━━━━━━━━━━━━━━━━━━━━━━━━━━━━━━━\u001b[0m \u001b[32m948.0/948.0 kB\u001b[0m \u001b[31m28.3 MB/s\u001b[0m eta \u001b[36m0:00:00\u001b[0m\n",
      "\u001b[?25hDownloading scikit_image-0.24.0-cp312-cp312-macosx_12_0_arm64.whl (13.4 MB)\n",
      "\u001b[2K   \u001b[90m━━━━━━━━━━━━━━━━━━━━━━━━━━━━━━━━━━━━━━━━\u001b[0m \u001b[32m13.4/13.4 MB\u001b[0m \u001b[31m13.3 MB/s\u001b[0m eta \u001b[36m0:00:00\u001b[0ma \u001b[36m0:00:01\u001b[0m\n",
      "\u001b[?25hDownloading lmdb-1.5.1-cp312-cp312-macosx_10_9_universal2.whl (166 kB)\n",
      "Downloading ninja-1.11.1.1-py2.py3-none-macosx_10_9_universal2.macosx_10_9_x86_64.macosx_11_0_arm64.macosx_11_0_universal2.whl (270 kB)\n",
      "Downloading opencv_contrib_python-4.10.0.84-cp37-abi3-macosx_11_0_arm64.whl (63.7 MB)\n",
      "\u001b[2K   \u001b[90m━━━━━━━━━━━━━━━━━━━━━━━━━━━━━━━━━━━━━━━━\u001b[0m \u001b[32m63.7/63.7 MB\u001b[0m \u001b[31m12.7 MB/s\u001b[0m eta \u001b[36m0:00:00\u001b[0m00:01\u001b[0m00:01\u001b[0m\n",
      "\u001b[?25hUsing cached opencv_python-4.10.0.84-cp37-abi3-macosx_11_0_arm64.whl (54.8 MB)\n",
      "Downloading opencv_python_headless-4.10.0.84-cp37-abi3-macosx_11_0_arm64.whl (54.8 MB)\n",
      "\u001b[2K   \u001b[90m━━━━━━━━━━━━━━━━━━━━━━━━━━━━━━━━━━━━━━━━\u001b[0m \u001b[32m54.8/54.8 MB\u001b[0m \u001b[31m13.0 MB/s\u001b[0m eta \u001b[36m0:00:00\u001b[0m00:01\u001b[0m00:01\u001b[0m\n",
      "\u001b[?25hDownloading pyclipper-1.3.0.post5-cp312-cp312-macosx_10_9_universal2.whl (278 kB)\n",
      "Downloading python_bidi-0.6.0-cp312-cp312-macosx_11_0_arm64.whl (250 kB)\n",
      "Downloading python_docx-1.1.2-py3-none-any.whl (244 kB)\n",
      "Downloading shapely-2.0.6-cp312-cp312-macosx_11_0_arm64.whl (1.3 MB)\n",
      "\u001b[2K   \u001b[90m━━━━━━━━━━━━━━━━━━━━━━━━━━━━━━━━━━━━━━━━\u001b[0m \u001b[32m1.3/1.3 MB\u001b[0m \u001b[31m19.4 MB/s\u001b[0m eta \u001b[36m0:00:00\u001b[0m\n",
      "\u001b[?25hUsing cached cachetools-5.5.0-py3-none-any.whl (9.5 kB)\n",
      "Using cached grpcio_status-1.66.1-py3-none-any.whl (14 kB)\n",
      "Downloading protobuf-5.28.1-cp38-abi3-macosx_10_9_universal2.whl (414 kB)\n",
      "Using cached grpcio-1.66.1-cp312-cp312-macosx_10_9_universal2.whl (10.6 MB)\n",
      "Using cached imageio-2.35.1-py3-none-any.whl (315 kB)\n",
      "Downloading lazy_loader-0.4-py3-none-any.whl (12 kB)\n",
      "Downloading pyasn1_modules-0.4.1-py3-none-any.whl (181 kB)\n",
      "Using cached rsa-4.9-py3-none-any.whl (34 kB)\n",
      "Downloading soupsieve-2.6-py3-none-any.whl (36 kB)\n",
      "Downloading tifffile-2024.8.30-py3-none-any.whl (227 kB)\n",
      "Downloading termcolor-2.4.0-py3-none-any.whl (7.7 kB)\n",
      "Downloading pyasn1-0.6.1-py3-none-any.whl (83 kB)\n",
      "Building wheels for collected packages: fire\n",
      "  Building wheel for fire (setup.py) ... \u001b[?25ldone\n",
      "\u001b[?25h  Created wheel for fire: filename=fire-0.6.0-py2.py3-none-any.whl size=117030 sha256=8ed3977d9be3780d6e6144f76ff7739e28b5a8246c95cf850bc6ab5130d99595\n",
      "  Stored in directory: /Users/anmol/Library/Caches/pip/wheels/97/4a/3f/f6f222440f03d888f026ac848b6b4ea57183ebfcd8f3cb8904\n",
      "Successfully built fire\n",
      "Installing collected packages: python-bidi, pyclipper, ninja, lmdb, tifffile, termcolor, soupsieve, Shapely, python-docx, pytesseract, pyasn1, protobuf, opencv-python-headless, opencv-python, opencv-contrib-python, lazy-loader, imageio, grpcio, cython, cachetools, torch, scikit-image, rsa, pyasn1-modules, proto-plus, fire, beautifulsoup4, torchvision, imgaug, grpcio-status, google-auth, paddleocr, google-api-core, easyocr, google-cloud-vision\n",
      "  Attempting uninstall: protobuf\n",
      "    Found existing installation: protobuf 4.25.4\n",
      "    Uninstalling protobuf-4.25.4:\n",
      "      Successfully uninstalled protobuf-4.25.4\n",
      "  Attempting uninstall: grpcio\n",
      "    Found existing installation: grpcio 1.66.0\n",
      "    Uninstalling grpcio-1.66.0:\n",
      "      Successfully uninstalled grpcio-1.66.0\n",
      "  Attempting uninstall: torch\n",
      "    Found existing installation: torch 2.4.0\n",
      "    Uninstalling torch-2.4.0:\n",
      "      Successfully uninstalled torch-2.4.0\n",
      "\u001b[31mERROR: pip's dependency resolver does not currently take into account all the packages that are installed. This behaviour is the source of the following dependency conflicts.\n",
      "opentelemetry-proto 1.26.0 requires protobuf<5.0,>=3.19, but you have protobuf 5.28.1 which is incompatible.\u001b[0m\u001b[31m\n",
      "\u001b[0mSuccessfully installed Shapely-2.0.6 beautifulsoup4-4.12.3 cachetools-5.5.0 cython-3.0.11 easyocr-1.7.1 fire-0.6.0 google-api-core-2.19.2 google-auth-2.34.0 google-cloud-vision-3.7.4 grpcio-1.66.1 grpcio-status-1.66.1 imageio-2.35.1 imgaug-0.4.0 lazy-loader-0.4 lmdb-1.5.1 ninja-1.11.1.1 opencv-contrib-python-4.10.0.84 opencv-python-4.10.0.84 opencv-python-headless-4.10.0.84 paddleocr-2.8.1 proto-plus-1.24.0 protobuf-5.28.1 pyasn1-0.6.1 pyasn1-modules-0.4.1 pyclipper-1.3.0.post5 pytesseract-0.3.13 python-bidi-0.6.0 python-docx-1.1.2 rsa-4.9 scikit-image-0.24.0 soupsieve-2.6 termcolor-2.4.0 tifffile-2024.8.30 torch-2.4.1 torchvision-0.19.1\n"
     ]
    }
   ],
   "source": [
    "!pip install pytesseract easyocr paddleocr google-cloud-vision"
   ]
  },
  {
   "cell_type": "code",
   "execution_count": 16,
   "id": "12fbf263-09ba-4ee0-8468-06e78af39d1e",
   "metadata": {},
   "outputs": [
    {
     "name": "stdout",
     "output_type": "stream",
     "text": [
      "Requirement already satisfied: pytesseract in /Users/anmol/miniconda3/lib/python3.12/site-packages (0.3.13)\n",
      "Requirement already satisfied: packaging>=21.3 in /Users/anmol/miniconda3/lib/python3.12/site-packages (from pytesseract) (24.1)\n",
      "Requirement already satisfied: Pillow>=8.0.0 in /Users/anmol/miniconda3/lib/python3.12/site-packages (from pytesseract) (10.4.0)\n"
     ]
    }
   ],
   "source": [
    "!pip install pytesseract"
   ]
  },
  {
   "cell_type": "code",
   "execution_count": 18,
   "id": "ee5a259d-a742-4d5d-999b-9a541aff720b",
   "metadata": {},
   "outputs": [
    {
     "ename": "ModuleNotFoundError",
     "evalue": "No module named 'pytesseract'",
     "output_type": "error",
     "traceback": [
      "\u001b[0;31m---------------------------------------------------------------------------\u001b[0m",
      "\u001b[0;31mModuleNotFoundError\u001b[0m                       Traceback (most recent call last)",
      "Cell \u001b[0;32mIn[18], line 1\u001b[0m\n\u001b[0;32m----> 1\u001b[0m \u001b[38;5;28;01mimport\u001b[39;00m \u001b[38;5;21;01mpytesseract\u001b[39;00m\n\u001b[1;32m      2\u001b[0m \u001b[38;5;28;01mfrom\u001b[39;00m \u001b[38;5;21;01mPIL\u001b[39;00m \u001b[38;5;28;01mimport\u001b[39;00m Image\n\u001b[1;32m      3\u001b[0m \u001b[38;5;28;01mdef\u001b[39;00m \u001b[38;5;21mtesseract_ocr\u001b[39m(img):\n",
      "\u001b[0;31mModuleNotFoundError\u001b[0m: No module named 'pytesseract'"
     ]
    }
   ],
   "source": [
    "import pytesseract\n",
    "from PIL import Image\n",
    "def tesseract_ocr(img):\n",
    "  image = Image.open(img)\n",
    "  text = pytesseract.image_to_string(image)\n",
    "  return text\n",
    "\n",
    "   # Usage\n",
    "text = tesseract_ocr('/Users/anmol/Desktop/Work/amazonMLChallenge/student_resource 3/images/81e2YtCOKvL.jpg')\n",
    "print(text)"
   ]
  },
  {
   "cell_type": "code",
   "execution_count": 24,
   "id": "ccdac257-b39d-438e-87c4-dc3d8ec425ce",
   "metadata": {},
   "outputs": [
    {
     "ename": "ModuleNotFoundError",
     "evalue": "No module named 'easyocr'",
     "output_type": "error",
     "traceback": [
      "\u001b[0;31m---------------------------------------------------------------------------\u001b[0m",
      "\u001b[0;31mModuleNotFoundError\u001b[0m                       Traceback (most recent call last)",
      "Cell \u001b[0;32mIn[24], line 1\u001b[0m\n\u001b[0;32m----> 1\u001b[0m \u001b[38;5;28;01mimport\u001b[39;00m \u001b[38;5;21;01measyocr\u001b[39;00m\n\u001b[1;32m      3\u001b[0m \u001b[38;5;28;01mdef\u001b[39;00m \u001b[38;5;21measy_ocr\u001b[39m(image_path):\n\u001b[1;32m      4\u001b[0m   reader \u001b[38;5;241m=\u001b[39m easyocr\u001b[38;5;241m.\u001b[39mReader([\u001b[38;5;124m'\u001b[39m\u001b[38;5;124men\u001b[39m\u001b[38;5;124m'\u001b[39m])  \u001b[38;5;66;03m# Initialize for English\u001b[39;00m\n",
      "\u001b[0;31mModuleNotFoundError\u001b[0m: No module named 'easyocr'"
     ]
    }
   ],
   "source": [
    "import easyocr\n",
    "\n",
    "def easy_ocr(image_path):\n",
    "  reader = easyocr.Reader(['en'])  # Initialize for English\n",
    "  results = reader.readtext(image_path)\n",
    "  return ' '.join([result[1] for result in results])\n",
    "\n",
    "# Usage\n",
    "text = easy_ocr('/Users/anmol/Desktop/Work/amazonMLChallenge/student_resource 3/images/81e2YtCOKvL.jpg')\n",
    "print(text)"
   ]
  },
  {
   "cell_type": "code",
   "execution_count": 23,
   "id": "4a32648e-405b-4f09-88a2-21b72d969903",
   "metadata": {},
   "outputs": [
    {
     "name": "stdout",
     "output_type": "stream",
     "text": [
      "Requirement already satisfied: easyocr==1.1.4 in /Users/anmol/miniconda3/lib/python3.12/site-packages (1.1.4)\n",
      "Requirement already satisfied: torch in /Users/anmol/miniconda3/lib/python3.12/site-packages (from easyocr==1.1.4) (2.4.1)\n",
      "Requirement already satisfied: torchvision>=0.5 in /Users/anmol/miniconda3/lib/python3.12/site-packages (from easyocr==1.1.4) (0.19.1)\n",
      "Requirement already satisfied: opencv-python in /Users/anmol/miniconda3/lib/python3.12/site-packages (from easyocr==1.1.4) (4.10.0.84)\n",
      "Requirement already satisfied: scipy in /Users/anmol/miniconda3/lib/python3.12/site-packages (from easyocr==1.1.4) (1.14.1)\n",
      "Requirement already satisfied: numpy in /Users/anmol/miniconda3/lib/python3.12/site-packages (from easyocr==1.1.4) (1.26.4)\n",
      "Requirement already satisfied: Pillow in /Users/anmol/miniconda3/lib/python3.12/site-packages (from easyocr==1.1.4) (10.4.0)\n",
      "Requirement already satisfied: scikit-image in /Users/anmol/miniconda3/lib/python3.12/site-packages (from easyocr==1.1.4) (0.24.0)\n",
      "Requirement already satisfied: filelock in /Users/anmol/miniconda3/lib/python3.12/site-packages (from torch->easyocr==1.1.4) (3.15.4)\n",
      "Requirement already satisfied: typing-extensions>=4.8.0 in /Users/anmol/miniconda3/lib/python3.12/site-packages (from torch->easyocr==1.1.4) (4.12.2)\n",
      "Requirement already satisfied: sympy in /Users/anmol/miniconda3/lib/python3.12/site-packages (from torch->easyocr==1.1.4) (1.13.2)\n",
      "Requirement already satisfied: networkx in /Users/anmol/miniconda3/lib/python3.12/site-packages (from torch->easyocr==1.1.4) (3.3)\n",
      "Requirement already satisfied: jinja2 in /Users/anmol/miniconda3/lib/python3.12/site-packages (from torch->easyocr==1.1.4) (3.1.4)\n",
      "Requirement already satisfied: fsspec in /Users/anmol/miniconda3/lib/python3.12/site-packages (from torch->easyocr==1.1.4) (2024.6.1)\n",
      "Requirement already satisfied: setuptools in /Users/anmol/miniconda3/lib/python3.12/site-packages (from torch->easyocr==1.1.4) (72.1.0)\n",
      "Requirement already satisfied: imageio>=2.33 in /Users/anmol/miniconda3/lib/python3.12/site-packages (from scikit-image->easyocr==1.1.4) (2.35.1)\n",
      "Requirement already satisfied: tifffile>=2022.8.12 in /Users/anmol/miniconda3/lib/python3.12/site-packages (from scikit-image->easyocr==1.1.4) (2024.8.30)\n",
      "Requirement already satisfied: packaging>=21 in /Users/anmol/miniconda3/lib/python3.12/site-packages (from scikit-image->easyocr==1.1.4) (24.1)\n",
      "Requirement already satisfied: lazy-loader>=0.4 in /Users/anmol/miniconda3/lib/python3.12/site-packages (from scikit-image->easyocr==1.1.4) (0.4)\n",
      "Requirement already satisfied: MarkupSafe>=2.0 in /Users/anmol/miniconda3/lib/python3.12/site-packages (from jinja2->torch->easyocr==1.1.4) (2.1.5)\n",
      "Requirement already satisfied: mpmath<1.4,>=1.1.0 in /Users/anmol/miniconda3/lib/python3.12/site-packages (from sympy->torch->easyocr==1.1.4) (1.3.0)\n"
     ]
    }
   ],
   "source": [
    "!pip install easyocr==1.1.4"
   ]
  },
  {
   "cell_type": "code",
   "execution_count": 25,
   "id": "524554c3-ee94-4650-9b50-b40e77c9c2ff",
   "metadata": {},
   "outputs": [
    {
     "ename": "ModuleNotFoundError",
     "evalue": "No module named 'easyocr'",
     "output_type": "error",
     "traceback": [
      "\u001b[0;31m---------------------------------------------------------------------------\u001b[0m",
      "\u001b[0;31mModuleNotFoundError\u001b[0m                       Traceback (most recent call last)",
      "Cell \u001b[0;32mIn[25], line 1\u001b[0m\n\u001b[0;32m----> 1\u001b[0m \u001b[38;5;28;01mimport\u001b[39;00m \u001b[38;5;21;01measyocr\u001b[39;00m\n\u001b[1;32m      3\u001b[0m \u001b[38;5;28;01mdef\u001b[39;00m \u001b[38;5;21measy_ocr\u001b[39m(image_path):\n\u001b[1;32m      4\u001b[0m   reader \u001b[38;5;241m=\u001b[39m easyocr\u001b[38;5;241m.\u001b[39mReader([\u001b[38;5;124m'\u001b[39m\u001b[38;5;124men\u001b[39m\u001b[38;5;124m'\u001b[39m])  \u001b[38;5;66;03m# Initialize for English\u001b[39;00m\n",
      "\u001b[0;31mModuleNotFoundError\u001b[0m: No module named 'easyocr'"
     ]
    }
   ],
   "source": [
    "import easyocr\n",
    "\n",
    "def easy_ocr(image_path):\n",
    "  reader = easyocr.Reader(['en'])  # Initialize for English\n",
    "  results = reader.readtext(image_path)\n",
    "  return ' '.join([result[1] for result in results])\n",
    "\n",
    "# Usage\n",
    "text = easy_ocr('/Users/anmol/Desktop/Work/amazonMLChallenge/student_resource 3/images/81e2YtCOKvL.jpg')\n",
    "print(text)"
   ]
  },
  {
   "cell_type": "code",
   "execution_count": 26,
   "id": "b1661b89-1274-490f-8d4e-dd2fe4219b4f",
   "metadata": {},
   "outputs": [],
   "source": [
    "import pandas as pd "
   ]
  },
  {
   "cell_type": "code",
   "execution_count": null,
   "id": "91594490-defc-4e44-8a64-cdc1292a4271",
   "metadata": {},
   "outputs": [],
   "source": [
    "df = read_csv('/Users/anmol/Desktop/Work/amazonMLChallenge/student_resource 3/dataset/train.csv')"
   ]
  },
  {
   "cell_type": "code",
   "execution_count": null,
   "id": "62855ffa",
   "metadata": {},
   "outputs": [],
   "source": [
    "train"
   ]
  },
  {
   "cell_type": "code",
   "execution_count": 3,
   "id": "0e15b017",
   "metadata": {},
   "outputs": [],
   "source": [
    "import pandas as pd\n",
    "\n",
    "# Step 2: Read the original CSV file\n",
    "original_csv = '/Users/anmol/Desktop/Work/amazonMLChallenge/student_resource 3/dataset/train.csv'\n",
    "df = pd.read_csv(original_csv)\n",
    "\n",
    "# Step 3: Select the first 100,000 rows\n",
    "df_first_100k = df.head(100000)\n",
    "\n",
    "# Step 4: Save the selected rows into a new CSV file\n",
    "new_csv = '/Users/anmol/Desktop/Work/amazonMLChallenge/student_resource 3/dataset/claude.csv'\n",
    "df_first_100k.to_csv(new_csv, index=False)"
   ]
  },
  {
   "cell_type": "code",
   "execution_count": null,
   "id": "c07811fa-c994-409e-bd8c-c201f5b7c578",
   "metadata": {},
   "outputs": [],
   "source": []
  }
 ],
 "metadata": {
  "kernelspec": {
   "display_name": "Python 3 (ipykernel)",
   "language": "python",
   "name": "python3"
  },
  "language_info": {
   "codemirror_mode": {
    "name": "ipython",
    "version": 3
   },
   "file_extension": ".py",
   "mimetype": "text/x-python",
   "name": "python",
   "nbconvert_exporter": "python",
   "pygments_lexer": "ipython3",
   "version": "3.11.8"
  }
 },
 "nbformat": 4,
 "nbformat_minor": 5
}
